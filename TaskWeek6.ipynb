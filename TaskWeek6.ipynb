{
  "metadata": {
    "kernelspec": {
      "language": "python",
      "display_name": "Python 3",
      "name": "python3"
    },
    "language_info": {
      "name": "python",
      "version": "3.7.12",
      "mimetype": "text/x-python",
      "codemirror_mode": {
        "name": "ipython",
        "version": 3
      },
      "pygments_lexer": "ipython3",
      "nbconvert_exporter": "python",
      "file_extension": ".py"
    },
    "kaggle": {
      "accelerator": "none",
      "dataSources": [
        {
          "sourceId": 2510329,
          "sourceType": "datasetVersion",
          "datasetId": 1520310
        }
      ],
      "dockerImageVersionId": 30301,
      "isInternetEnabled": false,
      "language": "python",
      "sourceType": "notebook",
      "isGpuEnabled": false
    },
    "colab": {
      "provenance": [],
      "include_colab_link": true
    }
  },
  "nbformat_minor": 0,
  "nbformat": 4,
  "cells": [
    {
      "cell_type": "markdown",
      "metadata": {
        "id": "view-in-github",
        "colab_type": "text"
      },
      "source": [
        "<a href=\"https://colab.research.google.com/github/Heal-me-KI/KI_Task/blob/main/TaskWeek6.ipynb\" target=\"_parent\"><img src=\"https://colab.research.google.com/assets/colab-badge.svg\" alt=\"Open In Colab\"/></a>"
      ]
    },
    {
      "cell_type": "markdown",
      "source": [
        "# **Nama : Hilmy Ismail Hidayat**\n",
        "\n",
        "# **NPM : 2206048575**\n",
        "\n",
        "# **Original Code : https://www.kaggle.com/code/abdallahsaadelgendy/twitter-sentiment-analysis-with-lstm**"
      ],
      "metadata": {
        "id": "AFcgLNX0mEny"
      }
    },
    {
      "cell_type": "markdown",
      "source": [
        "# About the data"
      ],
      "metadata": {
        "id": "UymkMSOl7XKd"
      }
    },
    {
      "cell_type": "markdown",
      "source": [
        "This is an entity-level sentiment analysis dataset of twitter. Given a message and an entity, the task is to judge the sentiment of the message about the entity. There are three classes in this dataset: Positive, Negative and Neutral. We regard messages that are not relevant to the entity (i.e. Irrelevant) as Neutral."
      ],
      "metadata": {
        "id": "IHB-g5ir8ENW"
      }
    },
    {
      "cell_type": "markdown",
      "source": [
        "# Importing libraries"
      ],
      "metadata": {
        "id": "qyxDWVPz8Gem"
      }
    },
    {
      "cell_type": "code",
      "source": [
        "import numpy as np\n",
        "import pandas as pd\n",
        "from matplotlib import pyplot as plt\n",
        "import nltk\n",
        "import re\n",
        "from nltk.tokenize import word_tokenize\n",
        "from nltk.corpus import stopwords\n",
        "from nltk.stem.porter import PorterStemmer\n",
        "from keras.preprocessing.text import Tokenizer\n",
        "from tensorflow.keras.preprocessing.sequence import pad_sequences\n",
        "from sklearn.model_selection import train_test_split\n",
        "from keras.models import Sequential\n",
        "from keras.layers import Dense, Dropout, Embedding, LSTM, GlobalMaxPooling1D, SpatialDropout1D"
      ],
      "metadata": {
        "execution": {
          "iopub.status.busy": "2024-10-19T14:56:39.519527Z",
          "iopub.execute_input": "2024-10-19T14:56:39.520321Z",
          "iopub.status.idle": "2024-10-19T14:56:48.164475Z",
          "shell.execute_reply.started": "2024-10-19T14:56:39.520163Z",
          "shell.execute_reply": "2024-10-19T14:56:48.162982Z"
        },
        "id": "HhwBDkIc-13u",
        "trusted": true
      },
      "outputs": [],
      "execution_count": null
    },
    {
      "cell_type": "markdown",
      "source": [
        "# Data Exploring"
      ],
      "metadata": {
        "id": "ZJUdHqGJ8NOm"
      }
    },
    {
      "cell_type": "code",
      "source": [
        "data=pd.read_csv('../input/twitter-entity-sentiment-analysis/twitter_training.csv', sep=',', names=['Tweet_ID','Entity','Sentiment','Tweet_content'])"
      ],
      "metadata": {
        "execution": {
          "iopub.status.busy": "2024-10-19T14:56:48.166885Z",
          "iopub.execute_input": "2024-10-19T14:56:48.168582Z",
          "iopub.status.idle": "2024-10-19T14:56:48.527802Z",
          "shell.execute_reply.started": "2024-10-19T14:56:48.168525Z",
          "shell.execute_reply": "2024-10-19T14:56:48.526565Z"
        },
        "id": "5LkjgDEF-13w",
        "trusted": true
      },
      "outputs": [],
      "execution_count": null
    },
    {
      "cell_type": "code",
      "source": [
        "data.shape"
      ],
      "metadata": {
        "execution": {
          "iopub.status.busy": "2024-10-19T14:56:48.529366Z",
          "iopub.execute_input": "2024-10-19T14:56:48.529786Z",
          "iopub.status.idle": "2024-10-19T14:56:48.540580Z",
          "shell.execute_reply.started": "2024-10-19T14:56:48.529749Z",
          "shell.execute_reply": "2024-10-19T14:56:48.539253Z"
        },
        "id": "jeVC9S51-13x",
        "outputId": "a15fd596-ca48-4db8-dcf2-56c42899cbcf",
        "trusted": true
      },
      "outputs": [
        {
          "execution_count": 3,
          "output_type": "execute_result",
          "data": {
            "text/plain": "(74682, 4)"
          },
          "metadata": {}
        }
      ],
      "execution_count": null
    },
    {
      "cell_type": "code",
      "source": [
        "data.head()"
      ],
      "metadata": {
        "execution": {
          "iopub.status.busy": "2024-10-19T14:56:48.543625Z",
          "iopub.execute_input": "2024-10-19T14:56:48.544058Z",
          "iopub.status.idle": "2024-10-19T14:56:48.563884Z",
          "shell.execute_reply.started": "2024-10-19T14:56:48.543989Z",
          "shell.execute_reply": "2024-10-19T14:56:48.562771Z"
        },
        "id": "J35hICnd-13y",
        "outputId": "4d0d5f97-d90d-4481-8817-5d4268cce506",
        "trusted": true
      },
      "outputs": [
        {
          "execution_count": 4,
          "output_type": "execute_result",
          "data": {
            "text/plain": "   Tweet_ID       Entity Sentiment  \\\n0      2401  Borderlands  Positive   \n1      2401  Borderlands  Positive   \n2      2401  Borderlands  Positive   \n3      2401  Borderlands  Positive   \n4      2401  Borderlands  Positive   \n\n                                       Tweet_content  \n0  im getting on borderlands and i will murder yo...  \n1  I am coming to the borders and I will kill you...  \n2  im getting on borderlands and i will kill you ...  \n3  im coming on borderlands and i will murder you...  \n4  im getting on borderlands 2 and i will murder ...  ",
            "text/html": "<div>\n<style scoped>\n    .dataframe tbody tr th:only-of-type {\n        vertical-align: middle;\n    }\n\n    .dataframe tbody tr th {\n        vertical-align: top;\n    }\n\n    .dataframe thead th {\n        text-align: right;\n    }\n</style>\n<table border=\"1\" class=\"dataframe\">\n  <thead>\n    <tr style=\"text-align: right;\">\n      <th></th>\n      <th>Tweet_ID</th>\n      <th>Entity</th>\n      <th>Sentiment</th>\n      <th>Tweet_content</th>\n    </tr>\n  </thead>\n  <tbody>\n    <tr>\n      <th>0</th>\n      <td>2401</td>\n      <td>Borderlands</td>\n      <td>Positive</td>\n      <td>im getting on borderlands and i will murder yo...</td>\n    </tr>\n    <tr>\n      <th>1</th>\n      <td>2401</td>\n      <td>Borderlands</td>\n      <td>Positive</td>\n      <td>I am coming to the borders and I will kill you...</td>\n    </tr>\n    <tr>\n      <th>2</th>\n      <td>2401</td>\n      <td>Borderlands</td>\n      <td>Positive</td>\n      <td>im getting on borderlands and i will kill you ...</td>\n    </tr>\n    <tr>\n      <th>3</th>\n      <td>2401</td>\n      <td>Borderlands</td>\n      <td>Positive</td>\n      <td>im coming on borderlands and i will murder you...</td>\n    </tr>\n    <tr>\n      <th>4</th>\n      <td>2401</td>\n      <td>Borderlands</td>\n      <td>Positive</td>\n      <td>im getting on borderlands 2 and i will murder ...</td>\n    </tr>\n  </tbody>\n</table>\n</div>"
          },
          "metadata": {}
        }
      ],
      "execution_count": null
    },
    {
      "cell_type": "code",
      "source": [
        "data.Entity.unique()"
      ],
      "metadata": {
        "execution": {
          "iopub.status.busy": "2024-10-19T14:56:48.565551Z",
          "iopub.execute_input": "2024-10-19T14:56:48.566073Z",
          "iopub.status.idle": "2024-10-19T14:56:48.585659Z",
          "shell.execute_reply.started": "2024-10-19T14:56:48.566026Z",
          "shell.execute_reply": "2024-10-19T14:56:48.584328Z"
        },
        "id": "S5T_QN7H-13z",
        "outputId": "4d01e2fe-e0a3-4f47-92bf-8697aac7f627",
        "trusted": true
      },
      "outputs": [
        {
          "execution_count": 5,
          "output_type": "execute_result",
          "data": {
            "text/plain": "array(['Borderlands', 'CallOfDutyBlackopsColdWar', 'Amazon', 'Overwatch',\n       'Xbox(Xseries)', 'NBA2K', 'Dota2', 'PlayStation5(PS5)',\n       'WorldOfCraft', 'CS-GO', 'Google', 'AssassinsCreed', 'ApexLegends',\n       'LeagueOfLegends', 'Fortnite', 'Microsoft', 'Hearthstone',\n       'Battlefield', 'PlayerUnknownsBattlegrounds(PUBG)', 'Verizon',\n       'HomeDepot', 'FIFA', 'RedDeadRedemption(RDR)', 'CallOfDuty',\n       'TomClancysRainbowSix', 'Facebook', 'GrandTheftAuto(GTA)',\n       'MaddenNFL', 'johnson&johnson', 'Cyberpunk2077',\n       'TomClancysGhostRecon', 'Nvidia'], dtype=object)"
          },
          "metadata": {}
        }
      ],
      "execution_count": null
    },
    {
      "cell_type": "code",
      "source": [
        "plt.pie(data.Sentiment.value_counts()\n",
        ",labels=['Negative','Positive','Neutral','Irrelevant'],autopct='%1.1f%%',startangle=90)"
      ],
      "metadata": {
        "execution": {
          "iopub.status.busy": "2024-10-19T14:56:48.587463Z",
          "iopub.execute_input": "2024-10-19T14:56:48.587861Z",
          "iopub.status.idle": "2024-10-19T14:56:48.754555Z",
          "shell.execute_reply.started": "2024-10-19T14:56:48.587820Z",
          "shell.execute_reply": "2024-10-19T14:56:48.753191Z"
        },
        "id": "XqqfcLxC-130",
        "outputId": "6a5aa9fe-ae29-46ff-8157-333ee2db7afd",
        "trusted": true
      },
      "outputs": [
        {
          "execution_count": 6,
          "output_type": "execute_result",
          "data": {
            "text/plain": "([<matplotlib.patches.Wedge at 0x7929a7597cd0>,\n  <matplotlib.patches.Wedge at 0x7929a75275d0>,\n  <matplotlib.patches.Wedge at 0x7929a7527e10>,\n  <matplotlib.patches.Wedge at 0x7929a7527b10>],\n [Text(-0.8936408809046303, 0.6414093669225578, 'Negative'),\n  Text(-0.39649770564254117, -1.0260553442286633, 'Positive'),\n  Text(1.0532293937999033, -0.3173449921392938, 'Neutral'),\n  Text(0.5716146417662045, 0.9398173765782871, 'Irrelevant')],\n [Text(-0.4874404804934347, 0.3498596546850315, '30.2%'),\n  Text(-0.21627147580502246, -0.5596665513974527, '27.9%'),\n  Text(0.5744887602544927, -0.17309726843961476, '24.5%'),\n  Text(0.31178980459974787, 0.5126276599517929, '17.4%')])"
          },
          "metadata": {}
        },
        {
          "output_type": "display_data",
          "data": {
            "text/plain": "<Figure size 432x288 with 1 Axes>",
            "image/png": "[encoded data removed]"
          },
          "metadata": {}
        }
      ],
      "execution_count": null
    },
    {
      "cell_type": "code",
      "source": [
        "data.Sentiment.value_counts()"
      ],
      "metadata": {
        "execution": {
          "iopub.status.busy": "2024-10-19T14:56:48.756393Z",
          "iopub.execute_input": "2024-10-19T14:56:48.757360Z",
          "iopub.status.idle": "2024-10-19T14:56:48.776918Z",
          "shell.execute_reply.started": "2024-10-19T14:56:48.757310Z",
          "shell.execute_reply": "2024-10-19T14:56:48.775548Z"
        },
        "id": "KHetdbbm-130",
        "outputId": "ce4d8627-67b4-4f6b-9b57-2a3b0c8975a1",
        "trusted": true
      },
      "outputs": [
        {
          "execution_count": 7,
          "output_type": "execute_result",
          "data": {
            "text/plain": "Negative      22542\nPositive      20832\nNeutral       18318\nIrrelevant    12990\nName: Sentiment, dtype: int64"
          },
          "metadata": {}
        }
      ],
      "execution_count": null
    },
    {
      "cell_type": "markdown",
      "source": [
        "# Data Cleaning"
      ],
      "metadata": {
        "id": "jg9G-4A78VNt"
      }
    },
    {
      "cell_type": "markdown",
      "source": [
        "**Drop dublicated data**"
      ],
      "metadata": {
        "id": "_3jymj1Z8bWX"
      }
    },
    {
      "cell_type": "code",
      "source": [
        "data.duplicated().sum()"
      ],
      "metadata": {
        "execution": {
          "iopub.status.busy": "2024-10-19T14:56:48.778674Z",
          "iopub.execute_input": "2024-10-19T14:56:48.779777Z",
          "iopub.status.idle": "2024-10-19T14:56:48.860297Z",
          "shell.execute_reply.started": "2024-10-19T14:56:48.779724Z",
          "shell.execute_reply": "2024-10-19T14:56:48.859056Z"
        },
        "id": "l5I2nQwx-131",
        "outputId": "1d5c706e-5e9d-482f-dc6e-8efee045931d",
        "trusted": true
      },
      "outputs": [
        {
          "execution_count": 8,
          "output_type": "execute_result",
          "data": {
            "text/plain": "2700"
          },
          "metadata": {}
        }
      ],
      "execution_count": null
    },
    {
      "cell_type": "code",
      "source": [
        "data.drop_duplicates(inplace=True)"
      ],
      "metadata": {
        "execution": {
          "iopub.status.busy": "2024-10-19T14:56:48.861788Z",
          "iopub.execute_input": "2024-10-19T14:56:48.862237Z",
          "iopub.status.idle": "2024-10-19T14:56:48.922839Z",
          "shell.execute_reply.started": "2024-10-19T14:56:48.862199Z",
          "shell.execute_reply": "2024-10-19T14:56:48.921506Z"
        },
        "id": "5Qhqeg9P-132",
        "trusted": true
      },
      "outputs": [],
      "execution_count": null
    },
    {
      "cell_type": "code",
      "source": [
        "data.duplicated().sum()"
      ],
      "metadata": {
        "execution": {
          "iopub.status.busy": "2024-10-19T14:56:48.927132Z",
          "iopub.execute_input": "2024-10-19T14:56:48.927592Z",
          "iopub.status.idle": "2024-10-19T14:56:48.983387Z",
          "shell.execute_reply.started": "2024-10-19T14:56:48.927552Z",
          "shell.execute_reply": "2024-10-19T14:56:48.982071Z"
        },
        "id": "pYznhM77-133",
        "outputId": "c949f727-5088-4d5d-b03f-4803e6eea79d",
        "trusted": true
      },
      "outputs": [
        {
          "execution_count": 10,
          "output_type": "execute_result",
          "data": {
            "text/plain": "0"
          },
          "metadata": {}
        }
      ],
      "execution_count": null
    },
    {
      "cell_type": "markdown",
      "source": [
        "**Drop Nulls**"
      ],
      "metadata": {
        "id": "PQlKd7Dx8kHe"
      }
    },
    {
      "cell_type": "code",
      "source": [
        "data.isnull().sum()"
      ],
      "metadata": {
        "execution": {
          "iopub.status.busy": "2024-10-19T14:56:48.985431Z",
          "iopub.execute_input": "2024-10-19T14:56:48.985806Z",
          "iopub.status.idle": "2024-10-19T14:56:49.012942Z",
          "shell.execute_reply.started": "2024-10-19T14:56:48.985776Z",
          "shell.execute_reply": "2024-10-19T14:56:49.011529Z"
        },
        "id": "1mEgUAD2-134",
        "outputId": "6e958225-168f-4ca6-bbed-50aea29ff5d2",
        "trusted": true
      },
      "outputs": [
        {
          "execution_count": 11,
          "output_type": "execute_result",
          "data": {
            "text/plain": "Tweet_ID           0\nEntity             0\nSentiment          0\nTweet_content    326\ndtype: int64"
          },
          "metadata": {}
        }
      ],
      "execution_count": null
    },
    {
      "cell_type": "code",
      "source": [
        "data.dropna(axis=0, inplace=True)"
      ],
      "metadata": {
        "execution": {
          "iopub.status.busy": "2024-10-19T14:56:49.014847Z",
          "iopub.execute_input": "2024-10-19T14:56:49.015279Z",
          "iopub.status.idle": "2024-10-19T14:56:49.048815Z",
          "shell.execute_reply.started": "2024-10-19T14:56:49.015240Z",
          "shell.execute_reply": "2024-10-19T14:56:49.047560Z"
        },
        "id": "0iogjwtz-134",
        "trusted": true
      },
      "outputs": [],
      "execution_count": null
    },
    {
      "cell_type": "code",
      "source": [
        "data.isnull().sum()"
      ],
      "metadata": {
        "execution": {
          "iopub.status.busy": "2024-10-19T14:56:49.050566Z",
          "iopub.execute_input": "2024-10-19T14:56:49.051067Z",
          "iopub.status.idle": "2024-10-19T14:56:49.077364Z",
          "shell.execute_reply.started": "2024-10-19T14:56:49.051022Z",
          "shell.execute_reply": "2024-10-19T14:56:49.075865Z"
        },
        "id": "5aZhuvu5-135",
        "outputId": "42dcc3df-36e3-4c9b-b88e-7531ae0835a6",
        "trusted": true
      },
      "outputs": [
        {
          "execution_count": 13,
          "output_type": "execute_result",
          "data": {
            "text/plain": "Tweet_ID         0\nEntity           0\nSentiment        0\nTweet_content    0\ndtype: int64"
          },
          "metadata": {}
        }
      ],
      "execution_count": null
    },
    {
      "cell_type": "code",
      "source": [
        "data.reset_index(inplace=True)\n"
      ],
      "metadata": {
        "execution": {
          "iopub.status.busy": "2024-10-19T14:56:49.079264Z",
          "iopub.execute_input": "2024-10-19T14:56:49.079671Z",
          "iopub.status.idle": "2024-10-19T14:56:49.086650Z",
          "shell.execute_reply.started": "2024-10-19T14:56:49.079637Z",
          "shell.execute_reply": "2024-10-19T14:56:49.085444Z"
        },
        "id": "fm7RNHgo-135",
        "trusted": true
      },
      "outputs": [],
      "execution_count": null
    },
    {
      "cell_type": "code",
      "source": [
        "data.shape"
      ],
      "metadata": {
        "execution": {
          "iopub.status.busy": "2024-10-19T14:56:49.087977Z",
          "iopub.execute_input": "2024-10-19T14:56:49.088382Z",
          "iopub.status.idle": "2024-10-19T14:56:49.100344Z",
          "shell.execute_reply.started": "2024-10-19T14:56:49.088341Z",
          "shell.execute_reply": "2024-10-19T14:56:49.098876Z"
        },
        "id": "MaZV3ern-136",
        "outputId": "51133a7a-e776-4cae-fe95-42105d9ce106",
        "trusted": true
      },
      "outputs": [
        {
          "execution_count": 15,
          "output_type": "execute_result",
          "data": {
            "text/plain": "(71656, 5)"
          },
          "metadata": {}
        }
      ],
      "execution_count": null
    },
    {
      "cell_type": "markdown",
      "source": [
        "# Text Preprocessing"
      ],
      "metadata": {
        "id": "tL4d6s2g8tyF"
      }
    },
    {
      "cell_type": "code",
      "source": [
        "data.head()"
      ],
      "metadata": {
        "execution": {
          "iopub.status.busy": "2024-10-19T14:56:49.102179Z",
          "iopub.execute_input": "2024-10-19T14:56:49.102663Z",
          "iopub.status.idle": "2024-10-19T14:56:49.117935Z",
          "shell.execute_reply.started": "2024-10-19T14:56:49.102623Z",
          "shell.execute_reply": "2024-10-19T14:56:49.116700Z"
        },
        "id": "p_pSeNLP-137",
        "outputId": "f3c3dde3-4cb2-4e3b-ef30-7b6c23209a69",
        "trusted": true
      },
      "outputs": [
        {
          "execution_count": 16,
          "output_type": "execute_result",
          "data": {
            "text/plain": "   index  Tweet_ID       Entity Sentiment  \\\n0      0      2401  Borderlands  Positive   \n1      1      2401  Borderlands  Positive   \n2      2      2401  Borderlands  Positive   \n3      3      2401  Borderlands  Positive   \n4      4      2401  Borderlands  Positive   \n\n                                       Tweet_content  \n0  im getting on borderlands and i will murder yo...  \n1  I am coming to the borders and I will kill you...  \n2  im getting on borderlands and i will kill you ...  \n3  im coming on borderlands and i will murder you...  \n4  im getting on borderlands 2 and i will murder ...  ",
            "text/html": "<div>\n<style scoped>\n    .dataframe tbody tr th:only-of-type {\n        vertical-align: middle;\n    }\n\n    .dataframe tbody tr th {\n        vertical-align: top;\n    }\n\n    .dataframe thead th {\n        text-align: right;\n    }\n</style>\n<table border=\"1\" class=\"dataframe\">\n  <thead>\n    <tr style=\"text-align: right;\">\n      <th></th>\n      <th>index</th>\n      <th>Tweet_ID</th>\n      <th>Entity</th>\n      <th>Sentiment</th>\n      <th>Tweet_content</th>\n    </tr>\n  </thead>\n  <tbody>\n    <tr>\n      <th>0</th>\n      <td>0</td>\n      <td>2401</td>\n      <td>Borderlands</td>\n      <td>Positive</td>\n      <td>im getting on borderlands and i will murder yo...</td>\n    </tr>\n    <tr>\n      <th>1</th>\n      <td>1</td>\n      <td>2401</td>\n      <td>Borderlands</td>\n      <td>Positive</td>\n      <td>I am coming to the borders and I will kill you...</td>\n    </tr>\n    <tr>\n      <th>2</th>\n      <td>2</td>\n      <td>2401</td>\n      <td>Borderlands</td>\n      <td>Positive</td>\n      <td>im getting on borderlands and i will kill you ...</td>\n    </tr>\n    <tr>\n      <th>3</th>\n      <td>3</td>\n      <td>2401</td>\n      <td>Borderlands</td>\n      <td>Positive</td>\n      <td>im coming on borderlands and i will murder you...</td>\n    </tr>\n    <tr>\n      <th>4</th>\n      <td>4</td>\n      <td>2401</td>\n      <td>Borderlands</td>\n      <td>Positive</td>\n      <td>im getting on borderlands 2 and i will murder ...</td>\n    </tr>\n  </tbody>\n</table>\n</div>"
          },
          "metadata": {}
        }
      ],
      "execution_count": null
    },
    {
      "cell_type": "code",
      "source": [
        "replace_list = {r\"i'm\": 'i am',\n",
        "                r\"'re\": ' are',\n",
        "                r\"let’s\": 'let us',\n",
        "                r\"'s\":  ' is',\n",
        "                r\"'ve\": ' have',\n",
        "                r\"can't\": 'can not',\n",
        "                r\"cannot\": 'can not',\n",
        "                r\"shan’t\": 'shall not',\n",
        "                r\"n't\": ' not',\n",
        "                r\"'d\": ' would',\n",
        "                r\"'ll\": ' will',\n",
        "                r\"'scuse\": 'excuse',\n",
        "                ',': ' ,',\n",
        "                '.': ' .',\n",
        "                '!': ' !',\n",
        "                '?': ' ?',\n",
        "                '\\s+': ' '}\n",
        "def clean_text(text):\n",
        "    text = text.lower()\n",
        "    for s in replace_list:\n",
        "        text = text.replace(s, replace_list[s])\n",
        "    text = ' '.join(text.split())\n",
        "    return text"
      ],
      "metadata": {
        "execution": {
          "iopub.status.busy": "2024-10-19T14:56:49.119948Z",
          "iopub.execute_input": "2024-10-19T14:56:49.120479Z",
          "iopub.status.idle": "2024-10-19T14:56:49.129442Z",
          "shell.execute_reply.started": "2024-10-19T14:56:49.120429Z",
          "shell.execute_reply": "2024-10-19T14:56:49.128232Z"
        },
        "id": "R8JV1zpD-137",
        "trusted": true
      },
      "outputs": [],
      "execution_count": null
    },
    {
      "cell_type": "code",
      "source": [
        "x = data['Tweet_content'].apply(lambda p: clean_text(p))"
      ],
      "metadata": {
        "execution": {
          "iopub.status.busy": "2024-10-19T14:56:49.130708Z",
          "iopub.execute_input": "2024-10-19T14:56:49.131127Z",
          "iopub.status.idle": "2024-10-19T14:56:49.782248Z",
          "shell.execute_reply.started": "2024-10-19T14:56:49.131087Z",
          "shell.execute_reply": "2024-10-19T14:56:49.780973Z"
        },
        "id": "ytIxRlmm-138",
        "trusted": true
      },
      "outputs": [],
      "execution_count": null
    },
    {
      "cell_type": "code",
      "source": [
        "x[20]"
      ],
      "metadata": {
        "execution": {
          "iopub.status.busy": "2024-10-19T14:56:49.783743Z",
          "iopub.execute_input": "2024-10-19T14:56:49.784125Z",
          "iopub.status.idle": "2024-10-19T14:56:49.792214Z",
          "shell.execute_reply.started": "2024-10-19T14:56:49.784093Z",
          "shell.execute_reply": "2024-10-19T14:56:49.790780Z"
        },
        "id": "5XFyQDtO-139",
        "outputId": "1c900e60-d97b-4128-d90b-116b58abb186",
        "trusted": true
      },
      "outputs": [
        {
          "execution_count": 19,
          "output_type": "execute_result",
          "data": {
            "text/plain": "'that was the first borderlands session in a long time where i actually enjoyed a really satisfying combat experience . i got some rather good kills'"
          },
          "metadata": {}
        }
      ],
      "execution_count": null
    },
    {
      "cell_type": "code",
      "source": [
        "Tweet_content_len = x.apply(lambda p: len(p.split(' ')))\n",
        "max_Tweet_content_len = Tweet_content_len.max()\n",
        "print('max Tweet_content len: {0}'.format(max_Tweet_content_len))\n",
        "plt.figure(figsize = (10, 8))\n",
        "plt.hist(Tweet_content_len, density = True)\n",
        "plt.xlabel('Tweet_content len')\n",
        "plt.ylabel('probability')\n",
        "plt.grid()"
      ],
      "metadata": {
        "execution": {
          "iopub.status.busy": "2024-10-19T14:56:49.793810Z",
          "iopub.execute_input": "2024-10-19T14:56:49.794338Z",
          "iopub.status.idle": "2024-10-19T14:56:50.130302Z",
          "shell.execute_reply.started": "2024-10-19T14:56:49.794293Z",
          "shell.execute_reply": "2024-10-19T14:56:50.129100Z"
        },
        "id": "NQvbGx0C-139",
        "outputId": "44694829-aabf-408b-babf-efc6b2463ae4",
        "trusted": true
      },
      "outputs": [
        {
          "name": "stdout",
          "text": "max Tweet_content len: 311\n",
          "output_type": "stream"
        },
        {
          "output_type": "display_data",
          "data": {
            "text/plain": "<Figure size 720x576 with 1 Axes>",
            "image/png": "[encoded data removed]"
          },
          "metadata": {
            "needs_background": "light"
          }
        }
      ],
      "execution_count": null
    },
    {
      "cell_type": "code",
      "source": [
        "\n",
        "import re\n",
        "REPLACE_WITH_SPACE = re.compile(\"(@)\")\n",
        "SPACE = \" \"\n",
        "from nltk.corpus import stopwords\n",
        "english_stop_words = stopwords.words('english')\n",
        "from nltk.stem.porter import PorterStemmer\n",
        "#1\n",
        "def reviews(reviews):\n",
        "    reviews = [REPLACE_WITH_SPACE.sub(SPACE, line.lower()) for line in reviews]\n",
        "\n",
        "    return reviews\n",
        "#2\n",
        "def remove_stop_words(corpus):\n",
        "    removed_stop_words = []\n",
        "    for review in corpus:\n",
        "        removed_stop_words.append(\n",
        "            ' '.join([word for word in review.split()  if word not in english_stop_words]))\n",
        "    return removed_stop_words\n",
        "#3\n",
        "def get_stemmed_text(corpus):\n",
        "    stemmer = PorterStemmer()\n",
        "\n",
        "    return [' '.join([stemmer.stem(word) for word in review.split()]) for review in corpus]\n",
        "\n",
        "\n"
      ],
      "metadata": {
        "execution": {
          "iopub.status.busy": "2024-10-19T14:56:50.132241Z",
          "iopub.execute_input": "2024-10-19T14:56:50.132698Z",
          "iopub.status.idle": "2024-10-19T14:56:50.151895Z",
          "shell.execute_reply.started": "2024-10-19T14:56:50.132659Z",
          "shell.execute_reply": "2024-10-19T14:56:50.150745Z"
        },
        "id": "t1Kir_dS-13-",
        "trusted": true
      },
      "outputs": [],
      "execution_count": null
    },
    {
      "cell_type": "code",
      "source": [
        "y =data['Sentiment']"
      ],
      "metadata": {
        "execution": {
          "iopub.status.busy": "2024-10-19T14:56:50.153463Z",
          "iopub.execute_input": "2024-10-19T14:56:50.153879Z",
          "iopub.status.idle": "2024-10-19T14:56:50.159718Z",
          "shell.execute_reply.started": "2024-10-19T14:56:50.153841Z",
          "shell.execute_reply": "2024-10-19T14:56:50.158542Z"
        },
        "id": "LEmnEJeP-13_",
        "trusted": true
      },
      "outputs": [],
      "execution_count": null
    },
    {
      "cell_type": "code",
      "source": [
        "#1\n",
        "reviewtweet = reviews(x)\n",
        "#2\n",
        "no_stop_words_tweet = remove_stop_words(reviewtweet)\n",
        "#3\n",
        "stemmed_reviews_tweet = get_stemmed_text(no_stop_words_tweet)"
      ],
      "metadata": {
        "execution": {
          "iopub.status.busy": "2024-10-19T14:56:50.161657Z",
          "iopub.execute_input": "2024-10-19T14:56:50.162241Z",
          "iopub.status.idle": "2024-10-19T14:57:15.969929Z",
          "shell.execute_reply.started": "2024-10-19T14:56:50.162170Z",
          "shell.execute_reply": "2024-10-19T14:57:15.968657Z"
        },
        "id": "ABc1Nd6J-13_",
        "trusted": true
      },
      "outputs": [],
      "execution_count": null
    },
    {
      "cell_type": "code",
      "source": [
        "stemmed_reviews_tweet[20]"
      ],
      "metadata": {
        "execution": {
          "iopub.status.busy": "2024-10-19T14:57:15.971579Z",
          "iopub.execute_input": "2024-10-19T14:57:15.972024Z",
          "iopub.status.idle": "2024-10-19T14:57:15.979920Z",
          "shell.execute_reply.started": "2024-10-19T14:57:15.971962Z",
          "shell.execute_reply": "2024-10-19T14:57:15.978506Z"
        },
        "id": "kZbcE8Bs-14A",
        "outputId": "d5ef21ca-f3b0-4bd7-8cc3-d704f82c934e",
        "trusted": true
      },
      "outputs": [
        {
          "execution_count": 24,
          "output_type": "execute_result",
          "data": {
            "text/plain": "'first borderland session long time actual enjoy realli satisfi combat experi . got rather good kill'"
          },
          "metadata": {}
        }
      ],
      "execution_count": null
    },
    {
      "cell_type": "markdown",
      "source": [
        "**Encoding**"
      ],
      "metadata": {
        "id": "ABylhgqG84rG"
      }
    },
    {
      "cell_type": "code",
      "source": [
        "max_words = 8000\n",
        "\n",
        "\n",
        "tokenizer = Tokenizer(\n",
        "    num_words = max_words,\n",
        "    filters = '\"#$%&()*+-/:;<=>@[\\]^_`{|}~'\n",
        ")\n",
        "tokenizer.fit_on_texts(stemmed_reviews_tweet)\n",
        "x = tokenizer.texts_to_sequences(stemmed_reviews_tweet)\n",
        "x = pad_sequences(x, maxlen = 300)\n"
      ],
      "metadata": {
        "execution": {
          "iopub.status.busy": "2024-10-19T14:57:15.981574Z",
          "iopub.execute_input": "2024-10-19T14:57:15.982058Z",
          "iopub.status.idle": "2024-10-19T14:57:19.414347Z",
          "shell.execute_reply.started": "2024-10-19T14:57:15.982014Z",
          "shell.execute_reply": "2024-10-19T14:57:19.412849Z"
        },
        "id": "EG1vTQDD-14A",
        "trusted": true
      },
      "outputs": [],
      "execution_count": null
    },
    {
      "cell_type": "code",
      "source": [
        "label_tokenizer = Tokenizer()\n",
        "label_tokenizer.fit_on_texts(y)\n",
        "\n",
        "y = np.array(label_tokenizer.texts_to_sequences(y))\n"
      ],
      "metadata": {
        "execution": {
          "iopub.status.busy": "2024-10-19T14:57:19.415807Z",
          "iopub.execute_input": "2024-10-19T14:57:19.416222Z",
          "iopub.status.idle": "2024-10-19T14:57:20.591798Z",
          "shell.execute_reply.started": "2024-10-19T14:57:19.416183Z",
          "shell.execute_reply": "2024-10-19T14:57:20.590498Z"
        },
        "id": "o1kLlcZe-14B",
        "trusted": true
      },
      "outputs": [],
      "execution_count": null
    },
    {
      "cell_type": "markdown",
      "source": [
        "## Model"
      ],
      "metadata": {
        "id": "5iXKfOC-8_Hm"
      }
    },
    {
      "cell_type": "code",
      "source": [
        "from sklearn.model_selection import train_test_split\n",
        "x_train, x_test, y_train, y_test = train_test_split(x, y, train_size = 0.8)"
      ],
      "metadata": {
        "execution": {
          "iopub.status.busy": "2024-10-19T14:57:20.593510Z",
          "iopub.execute_input": "2024-10-19T14:57:20.594036Z",
          "iopub.status.idle": "2024-10-19T14:57:20.671872Z",
          "shell.execute_reply.started": "2024-10-19T14:57:20.593969Z",
          "shell.execute_reply": "2024-10-19T14:57:20.670828Z"
        },
        "id": "M1ac5uyk-14B",
        "trusted": true
      },
      "outputs": [],
      "execution_count": null
    },
    {
      "cell_type": "code",
      "source": [
        "model_lstm = Sequential()\n",
        "model_lstm.add(Embedding(input_dim = max_words, output_dim = 128, input_length = 300))\n",
        "model_lstm.add(SpatialDropout1D(0.3))\n",
        "model_lstm.add(LSTM(128, dropout = 0.3, recurrent_dropout = 0.3))\n",
        "model_lstm.add(Dense(128, activation = 'relu'))\n",
        "model_lstm.add(Dropout(0.3))\n",
        "model_lstm.add(Dense(5, activation = 'softmax'))\n",
        "model_lstm.compile(\n",
        "    loss='sparse_categorical_crossentropy',\n",
        "    optimizer='Adam',\n",
        "    metrics=['accuracy']\n",
        ")"
      ],
      "metadata": {
        "execution": {
          "iopub.status.busy": "2024-10-19T14:57:20.678241Z",
          "iopub.execute_input": "2024-10-19T14:57:20.678690Z",
          "iopub.status.idle": "2024-10-19T14:57:21.029371Z",
          "shell.execute_reply.started": "2024-10-19T14:57:20.678644Z",
          "shell.execute_reply": "2024-10-19T14:57:21.028068Z"
        },
        "id": "6gtVKyls-14C",
        "trusted": true
      },
      "outputs": [],
      "execution_count": null
    },
    {
      "cell_type": "code",
      "source": [
        "history = model_lstm.fit(\n",
        "    x_train,\n",
        "    y_train,\n",
        "    validation_data=(x_test,y_test) ,\n",
        "    epochs = 10,\n",
        "    batch_size = 512\n",
        ")\n"
      ],
      "metadata": {
        "execution": {
          "iopub.status.busy": "2024-10-19T14:57:21.031044Z",
          "iopub.execute_input": "2024-10-19T14:57:21.031439Z",
          "iopub.status.idle": "2024-10-19T16:21:22.655313Z",
          "shell.execute_reply.started": "2024-10-19T14:57:21.031395Z",
          "shell.execute_reply": "2024-10-19T16:21:22.653334Z"
        },
        "id": "c6xut99z-14C",
        "outputId": "b8be25cb-0984-4a1c-d7b3-c33b2570799f",
        "trusted": true
      },
      "outputs": [
        {
          "name": "stdout",
          "text": "Epoch 1/10\n112/112 [==============================] - 511s 5s/step - loss: 1.2914 - accuracy: 0.4086 - val_loss: 1.0165 - val_accuracy: 0.5871\nEpoch 2/10\n112/112 [==============================] - 504s 5s/step - loss: 0.8652 - accuracy: 0.6620 - val_loss: 0.7636 - val_accuracy: 0.7037\nEpoch 3/10\n112/112 [==============================] - 504s 5s/step - loss: 0.6916 - accuracy: 0.7368 - val_loss: 0.6871 - val_accuracy: 0.7346\nEpoch 4/10\n112/112 [==============================] - 502s 4s/step - loss: 0.6028 - accuracy: 0.7722 - val_loss: 0.6456 - val_accuracy: 0.7498\nEpoch 5/10\n112/112 [==============================] - 501s 4s/step - loss: 0.5464 - accuracy: 0.7918 - val_loss: 0.6001 - val_accuracy: 0.7718\nEpoch 6/10\n112/112 [==============================] - 503s 4s/step - loss: 0.4948 - accuracy: 0.8107 - val_loss: 0.5816 - val_accuracy: 0.7785\nEpoch 7/10\n112/112 [==============================] - 505s 5s/step - loss: 0.4562 - accuracy: 0.8260 - val_loss: 0.5555 - val_accuracy: 0.7924\nEpoch 8/10\n112/112 [==============================] - 506s 5s/step - loss: 0.4269 - accuracy: 0.8378 - val_loss: 0.5588 - val_accuracy: 0.7941\nEpoch 9/10\n112/112 [==============================] - 504s 5s/step - loss: 0.4012 - accuracy: 0.8469 - val_loss: 0.5320 - val_accuracy: 0.8057\nEpoch 10/10\n112/112 [==============================] - 501s 4s/step - loss: 0.3787 - accuracy: 0.8543 - val_loss: 0.5279 - val_accuracy: 0.8066\n",
          "output_type": "stream"
        }
      ],
      "execution_count": null
    },
    {
      "cell_type": "code",
      "source": [
        "model_lstm.summary()\n"
      ],
      "metadata": {
        "id": "Hek35EJS-14D",
        "outputId": "c59e451e-1659-448f-b310-f5532ebc5953",
        "trusted": true,
        "execution": {
          "iopub.status.busy": "2024-10-19T16:21:22.658039Z",
          "iopub.execute_input": "2024-10-19T16:21:22.658755Z",
          "iopub.status.idle": "2024-10-19T16:21:22.668447Z",
          "shell.execute_reply.started": "2024-10-19T16:21:22.658701Z",
          "shell.execute_reply": "2024-10-19T16:21:22.666974Z"
        }
      },
      "outputs": [
        {
          "name": "stdout",
          "text": "Model: \"sequential\"\n_________________________________________________________________\nLayer (type)                 Output Shape              Param #   \n=================================================================\nembedding (Embedding)        (None, 300, 128)          1024000   \n_________________________________________________________________\nspatial_dropout1d (SpatialDr (None, 300, 128)          0         \n_________________________________________________________________\nlstm (LSTM)                  (None, 128)               131584    \n_________________________________________________________________\ndense (Dense)                (None, 128)               16512     \n_________________________________________________________________\ndropout (Dropout)            (None, 128)               0         \n_________________________________________________________________\ndense_1 (Dense)              (None, 5)                 645       \n=================================================================\nTotal params: 1,172,741\nTrainable params: 1,172,741\nNon-trainable params: 0\n_________________________________________________________________\n",
          "output_type": "stream"
        }
      ],
      "execution_count": null
    },
    {
      "cell_type": "code",
      "source": [
        "plt.figure(1)\n",
        "plt.plot(history.history['loss'])\n",
        "plt.plot(history.history['val_loss'])\n",
        "plt.legend(['training','validation'])\n",
        "plt.title('Loss')\n",
        "plt.xlabel('epoch')\n",
        "plt.figure(2)\n",
        "plt.plot(history.history['accuracy'])\n",
        "plt.plot(history.history['val_accuracy'])\n",
        "plt.legend(['training','validation'])\n",
        "plt.title('Accuracy')\n",
        "plt.xlabel('epoch')\n",
        "plt.show()"
      ],
      "metadata": {
        "id": "EWLvCGZX-14D",
        "outputId": "d8875346-792c-4bfe-eb51-c963c19848da",
        "trusted": true,
        "execution": {
          "iopub.status.busy": "2024-10-19T16:21:22.670060Z",
          "iopub.execute_input": "2024-10-19T16:21:22.670513Z",
          "iopub.status.idle": "2024-10-19T16:21:22.982513Z",
          "shell.execute_reply.started": "2024-10-19T16:21:22.670472Z",
          "shell.execute_reply": "2024-10-19T16:21:22.981416Z"
        }
      },
      "outputs": [
        {
          "output_type": "display_data",
          "data": {
            "text/plain": "<Figure size 432x288 with 1 Axes>",
            "image/png": "[encoded data removed]"
          },
          "metadata": {
            "needs_background": "light"
          }
        },
        {
          "output_type": "display_data",
          "data": {
            "text/plain": "<Figure size 432x288 with 1 Axes>",
            "image/png": "[encoded data removed]"
          },
          "metadata": {
            "needs_background": "light"
          }
        }
      ],
      "execution_count": null
    },
    {
      "cell_type": "code",
      "source": [],
      "metadata": {
        "id": "SuDOluob6-XP",
        "trusted": true
      },
      "outputs": [],
      "execution_count": null
    }
  ]
}