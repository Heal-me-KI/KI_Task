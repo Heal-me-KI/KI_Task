{
  "nbformat": 4,
  "nbformat_minor": 0,
  "metadata": {
    "colab": {
      "provenance": [],
      "authorship_tag": "ABX9TyNOQyMa3oLHr6+7OyLpn6uv",
      "include_colab_link": true
    },
    "kernelspec": {
      "name": "python3",
      "display_name": "Python 3"
    },
    "language_info": {
      "name": "python"
    }
  },
  "cells": [
    {
      "cell_type": "markdown",
      "metadata": {
        "id": "view-in-github",
        "colab_type": "text"
      },
      "source": [
        "<a href=\"https://colab.research.google.com/github/Heal-me-KI/KI_Task/blob/main/TaskWeek7.ipynb\" target=\"_parent\"><img src=\"https://colab.research.google.com/assets/colab-badge.svg\" alt=\"Open In Colab\"/></a>"
      ]
    },
    {
      "cell_type": "markdown",
      "source": [
        "# **Nama : Hilmy Ismail Hidayat**\n",
        "\n",
        "# **NPM : 2206048575**\n",
        "\n",
        "# **Huggingface model : mrm8488/distilroberta-finetuned-financial-news-sentiment-analysis**"
      ],
      "metadata": {
        "id": "JKb8wnbpJEHg"
      }
    },
    {
      "cell_type": "markdown",
      "source": [
        "# Running model from huggingface"
      ],
      "metadata": {
        "id": "72M4xUq9Hmy4"
      }
    },
    {
      "cell_type": "code",
      "execution_count": null,
      "metadata": {
        "colab": {
          "base_uri": "https://localhost:8080/"
        },
        "id": "vn2ADN7M_GiY",
        "outputId": "1dad8b85-3ca9-43f7-b6d3-037b9d7fccf9"
      },
      "outputs": [
        {
          "output_type": "stream",
          "name": "stdout",
          "text": [
            "Requirement already satisfied: transformers in /usr/local/lib/python3.10/dist-packages (4.44.2)\n",
            "Requirement already satisfied: torch in /usr/local/lib/python3.10/dist-packages (2.5.0+cu121)\n",
            "Requirement already satisfied: filelock in /usr/local/lib/python3.10/dist-packages (from transformers) (3.16.1)\n",
            "Requirement already satisfied: huggingface-hub<1.0,>=0.23.2 in /usr/local/lib/python3.10/dist-packages (from transformers) (0.24.7)\n",
            "Requirement already satisfied: numpy>=1.17 in /usr/local/lib/python3.10/dist-packages (from transformers) (1.26.4)\n",
            "Requirement already satisfied: packaging>=20.0 in /usr/local/lib/python3.10/dist-packages (from transformers) (24.1)\n",
            "Requirement already satisfied: pyyaml>=5.1 in /usr/local/lib/python3.10/dist-packages (from transformers) (6.0.2)\n",
            "Requirement already satisfied: regex!=2019.12.17 in /usr/local/lib/python3.10/dist-packages (from transformers) (2024.9.11)\n",
            "Requirement already satisfied: requests in /usr/local/lib/python3.10/dist-packages (from transformers) (2.32.3)\n",
            "Requirement already satisfied: safetensors>=0.4.1 in /usr/local/lib/python3.10/dist-packages (from transformers) (0.4.5)\n",
            "Requirement already satisfied: tokenizers<0.20,>=0.19 in /usr/local/lib/python3.10/dist-packages (from transformers) (0.19.1)\n",
            "Requirement already satisfied: tqdm>=4.27 in /usr/local/lib/python3.10/dist-packages (from transformers) (4.66.5)\n",
            "Requirement already satisfied: typing-extensions>=4.8.0 in /usr/local/lib/python3.10/dist-packages (from torch) (4.12.2)\n",
            "Requirement already satisfied: networkx in /usr/local/lib/python3.10/dist-packages (from torch) (3.4.2)\n",
            "Requirement already satisfied: jinja2 in /usr/local/lib/python3.10/dist-packages (from torch) (3.1.4)\n",
            "Requirement already satisfied: fsspec in /usr/local/lib/python3.10/dist-packages (from torch) (2024.6.1)\n",
            "Requirement already satisfied: sympy==1.13.1 in /usr/local/lib/python3.10/dist-packages (from torch) (1.13.1)\n",
            "Requirement already satisfied: mpmath<1.4,>=1.1.0 in /usr/local/lib/python3.10/dist-packages (from sympy==1.13.1->torch) (1.3.0)\n",
            "Requirement already satisfied: MarkupSafe>=2.0 in /usr/local/lib/python3.10/dist-packages (from jinja2->torch) (3.0.2)\n",
            "Requirement already satisfied: charset-normalizer<4,>=2 in /usr/local/lib/python3.10/dist-packages (from requests->transformers) (3.4.0)\n",
            "Requirement already satisfied: idna<4,>=2.5 in /usr/local/lib/python3.10/dist-packages (from requests->transformers) (3.10)\n",
            "Requirement already satisfied: urllib3<3,>=1.21.1 in /usr/local/lib/python3.10/dist-packages (from requests->transformers) (2.2.3)\n",
            "Requirement already satisfied: certifi>=2017.4.17 in /usr/local/lib/python3.10/dist-packages (from requests->transformers) (2024.8.30)\n"
          ]
        }
      ],
      "source": [
        "!pip install transformers torch"
      ]
    },
    {
      "cell_type": "code",
      "source": [
        "from transformers import pipeline\n",
        "\n",
        "# Load the sentiment-analysis pipeline using the model\n",
        "sentiment_analyzer = pipeline(\n",
        "    \"sentiment-analysis\",\n",
        "    model=\"mrm8488/distilroberta-finetuned-financial-news-sentiment-analysis\"\n",
        ")"
      ],
      "metadata": {
        "id": "pUybo_hh_Hcz"
      },
      "execution_count": null,
      "outputs": []
    },
    {
      "cell_type": "code",
      "source": [
        "# Example: Analyzing the sentiment of financial news\n",
        "texts = [\n",
        "    \"The company's profits surged in the last quarter.\",\n",
        "    \"The stock market crash resulted in heavy losses.\",\n",
        "    \"The merger will likely boost the company's valuation.\",\n",
        "    \"Tomorrow is the company meeting\"\n",
        "]\n",
        "\n",
        "# Get sentiment predictions\n",
        "results = sentiment_analyzer(texts)\n",
        "\n",
        "# Print the results\n",
        "for text, result in zip(texts, results):\n",
        "    print(f\"Text: {text}\\nSentiment: {result['label']} (Score: {result['score']:.2f})\\n\")"
      ],
      "metadata": {
        "colab": {
          "base_uri": "https://localhost:8080/"
        },
        "id": "E2k478b7_Jp2",
        "outputId": "8d127624-6b62-484b-a8c5-beb2defdc5d0"
      },
      "execution_count": null,
      "outputs": [
        {
          "output_type": "stream",
          "name": "stdout",
          "text": [
            "Text: The company's profits surged in the last quarter.\n",
            "Sentiment: positive (Score: 1.00)\n",
            "\n",
            "Text: The stock market crash resulted in heavy losses.\n",
            "Sentiment: negative (Score: 1.00)\n",
            "\n",
            "Text: The merger will likely boost the company's valuation.\n",
            "Sentiment: positive (Score: 1.00)\n",
            "\n",
            "Text: Tomorrow is the company meeting\n",
            "Sentiment: neutral (Score: 1.00)\n",
            "\n"
          ]
        }
      ]
    },
    {
      "cell_type": "markdown",
      "source": [
        "# Checking the model’s accuracy using a synthetic dataset"
      ],
      "metadata": {
        "id": "h3Dx6mp4IOJw"
      }
    },
    {
      "cell_type": "code",
      "source": [
        "!pip install transformers torch scikit-learn\n"
      ],
      "metadata": {
        "colab": {
          "base_uri": "https://localhost:8080/"
        },
        "id": "ipZAZT-4AfVf",
        "outputId": "1e7baa98-bf04-47cf-bc24-8c6985f1e7f5"
      },
      "execution_count": null,
      "outputs": [
        {
          "output_type": "stream",
          "name": "stdout",
          "text": [
            "Requirement already satisfied: transformers in /usr/local/lib/python3.10/dist-packages (4.44.2)\n",
            "Requirement already satisfied: torch in /usr/local/lib/python3.10/dist-packages (2.5.0+cu121)\n",
            "Requirement already satisfied: scikit-learn in /usr/local/lib/python3.10/dist-packages (1.5.2)\n",
            "Requirement already satisfied: filelock in /usr/local/lib/python3.10/dist-packages (from transformers) (3.16.1)\n",
            "Requirement already satisfied: huggingface-hub<1.0,>=0.23.2 in /usr/local/lib/python3.10/dist-packages (from transformers) (0.24.7)\n",
            "Requirement already satisfied: numpy>=1.17 in /usr/local/lib/python3.10/dist-packages (from transformers) (1.26.4)\n",
            "Requirement already satisfied: packaging>=20.0 in /usr/local/lib/python3.10/dist-packages (from transformers) (24.1)\n",
            "Requirement already satisfied: pyyaml>=5.1 in /usr/local/lib/python3.10/dist-packages (from transformers) (6.0.2)\n",
            "Requirement already satisfied: regex!=2019.12.17 in /usr/local/lib/python3.10/dist-packages (from transformers) (2024.9.11)\n",
            "Requirement already satisfied: requests in /usr/local/lib/python3.10/dist-packages (from transformers) (2.32.3)\n",
            "Requirement already satisfied: safetensors>=0.4.1 in /usr/local/lib/python3.10/dist-packages (from transformers) (0.4.5)\n",
            "Requirement already satisfied: tokenizers<0.20,>=0.19 in /usr/local/lib/python3.10/dist-packages (from transformers) (0.19.1)\n",
            "Requirement already satisfied: tqdm>=4.27 in /usr/local/lib/python3.10/dist-packages (from transformers) (4.66.5)\n",
            "Requirement already satisfied: typing-extensions>=4.8.0 in /usr/local/lib/python3.10/dist-packages (from torch) (4.12.2)\n",
            "Requirement already satisfied: networkx in /usr/local/lib/python3.10/dist-packages (from torch) (3.4.2)\n",
            "Requirement already satisfied: jinja2 in /usr/local/lib/python3.10/dist-packages (from torch) (3.1.4)\n",
            "Requirement already satisfied: fsspec in /usr/local/lib/python3.10/dist-packages (from torch) (2024.6.1)\n",
            "Requirement already satisfied: sympy==1.13.1 in /usr/local/lib/python3.10/dist-packages (from torch) (1.13.1)\n",
            "Requirement already satisfied: mpmath<1.4,>=1.1.0 in /usr/local/lib/python3.10/dist-packages (from sympy==1.13.1->torch) (1.3.0)\n",
            "Requirement already satisfied: scipy>=1.6.0 in /usr/local/lib/python3.10/dist-packages (from scikit-learn) (1.13.1)\n",
            "Requirement already satisfied: joblib>=1.2.0 in /usr/local/lib/python3.10/dist-packages (from scikit-learn) (1.4.2)\n",
            "Requirement already satisfied: threadpoolctl>=3.1.0 in /usr/local/lib/python3.10/dist-packages (from scikit-learn) (3.5.0)\n",
            "Requirement already satisfied: MarkupSafe>=2.0 in /usr/local/lib/python3.10/dist-packages (from jinja2->torch) (3.0.2)\n",
            "Requirement already satisfied: charset-normalizer<4,>=2 in /usr/local/lib/python3.10/dist-packages (from requests->transformers) (3.4.0)\n",
            "Requirement already satisfied: idna<4,>=2.5 in /usr/local/lib/python3.10/dist-packages (from requests->transformers) (3.10)\n",
            "Requirement already satisfied: urllib3<3,>=1.21.1 in /usr/local/lib/python3.10/dist-packages (from requests->transformers) (2.2.3)\n",
            "Requirement already satisfied: certifi>=2017.4.17 in /usr/local/lib/python3.10/dist-packages (from requests->transformers) (2024.8.30)\n"
          ]
        }
      ]
    },
    {
      "cell_type": "code",
      "source": [
        "from transformers import pipeline\n",
        "from sklearn.metrics import accuracy_score\n",
        "\n",
        "# Load the sentiment-analysis pipeline\n",
        "sentiment_analyzer = pipeline(\n",
        "    \"sentiment-analysis\",\n",
        "    model=\"mrm8488/distilroberta-finetuned-financial-news-sentiment-analysis\"\n",
        ")"
      ],
      "metadata": {
        "id": "R4Y7c0kwAhWc"
      },
      "execution_count": null,
      "outputs": []
    },
    {
      "cell_type": "code",
      "source": [
        "# Synthetic financial texts with known sentiments\n",
        "synthetic_data = [\n",
        "    {\"text\": \"The company's revenue grew significantly this year.\", \"label\": \"POSITIVE\"},\n",
        "    {\"text\": \"The stock prices plummeted after the announcement.\", \"label\": \"NEGATIVE\"},\n",
        "    {\"text\": \"The economy is stable with no major disruptions.\", \"label\": \"POSITIVE\"},\n",
        "    {\"text\": \"The merger has increased shareholder confidence.\", \"label\": \"POSITIVE\"},\n",
        "    {\"text\": \"The CEO's resignation caused uncertainty among investors.\", \"label\": \"NEGATIVE\"},\n",
        "    {\"text\": \"The central bank kept interest rates unchanged.\", \"label\": \"NEUTRAL\"},\n",
        "    {\"text\": \"The company has launched a promising new product.\", \"label\": \"POSITIVE\"},\n",
        "    {\"text\": \"The pandemic has hurt sales across all sectors.\", \"label\": \"NEGATIVE\"},\n",
        "    {\"text\": \"The quarterly performance is as expected.\", \"label\": \"NEUTRAL\"}\n",
        "]\n"
      ],
      "metadata": {
        "id": "Oqq1TCoiAjFg"
      },
      "execution_count": null,
      "outputs": []
    },
    {
      "cell_type": "code",
      "source": [
        "# Extract texts for prediction\n",
        "texts = [item[\"text\"] for item in synthetic_data]\n",
        "\n",
        "# Predict sentiment using the pipeline\n",
        "predictions = sentiment_analyzer(texts)\n",
        "\n",
        "# Convert predictions to the same label format as the synthetic data\n",
        "predicted_labels = [pred[\"label\"].upper() for pred in predictions]  # Ensure labels are uppercase\n",
        "true_labels = [item[\"label\"] for item in synthetic_data]\n"
      ],
      "metadata": {
        "id": "cdfXhx29AmUk"
      },
      "execution_count": null,
      "outputs": []
    },
    {
      "cell_type": "code",
      "source": [
        "# Calculate and display the accuracy\n",
        "accuracy = accuracy_score(true_labels, predicted_labels)\n",
        "print(f\"Accuracy original: {accuracy * 100:.2f}%\")\n",
        "\n",
        "# Display predictions for each example\n",
        "for text, true, pred in zip(texts, true_labels, predicted_labels):\n",
        "    print(f\"Text: {text}\\nTrue Label: {true}, Predicted Label: {pred}\\n\")\n"
      ],
      "metadata": {
        "colab": {
          "base_uri": "https://localhost:8080/"
        },
        "id": "DjsP-0iDAp6o",
        "outputId": "e4f288c3-654d-43a5-8b7d-14719bcf76ac"
      },
      "execution_count": null,
      "outputs": [
        {
          "output_type": "stream",
          "name": "stdout",
          "text": [
            "Accuracy original: 100.00%\n",
            "Text: The company's revenue grew significantly this year.\n",
            "True Label: POSITIVE, Predicted Label: POSITIVE\n",
            "\n",
            "Text: The stock prices plummeted after the announcement.\n",
            "True Label: NEGATIVE, Predicted Label: NEGATIVE\n",
            "\n",
            "Text: The economy is stable with no major disruptions.\n",
            "True Label: POSITIVE, Predicted Label: POSITIVE\n",
            "\n",
            "Text: The merger has increased shareholder confidence.\n",
            "True Label: POSITIVE, Predicted Label: POSITIVE\n",
            "\n",
            "Text: The CEO's resignation caused uncertainty among investors.\n",
            "True Label: NEGATIVE, Predicted Label: NEGATIVE\n",
            "\n",
            "Text: The central bank kept interest rates unchanged.\n",
            "True Label: NEUTRAL, Predicted Label: NEUTRAL\n",
            "\n",
            "Text: The company has launched a promising new product.\n",
            "True Label: POSITIVE, Predicted Label: POSITIVE\n",
            "\n",
            "Text: The pandemic has hurt sales across all sectors.\n",
            "True Label: NEGATIVE, Predicted Label: NEGATIVE\n",
            "\n",
            "Text: The quarterly performance is as expected.\n",
            "True Label: NEUTRAL, Predicted Label: NEUTRAL\n",
            "\n"
          ]
        }
      ]
    },
    {
      "cell_type": "markdown",
      "source": [
        "# Implementing attention transformer on that model"
      ],
      "metadata": {
        "id": "ZOmtbSJjIUqY"
      }
    },
    {
      "cell_type": "code",
      "source": [
        "!pip install transformers torch matplotlib"
      ],
      "metadata": {
        "colab": {
          "base_uri": "https://localhost:8080/"
        },
        "id": "zmLedcrwBMi2",
        "outputId": "9952b6da-621b-4d63-9511-b2c5d0d06f73"
      },
      "execution_count": null,
      "outputs": [
        {
          "output_type": "stream",
          "name": "stdout",
          "text": [
            "Requirement already satisfied: transformers in /usr/local/lib/python3.10/dist-packages (4.44.2)\n",
            "Requirement already satisfied: torch in /usr/local/lib/python3.10/dist-packages (2.5.0+cu121)\n",
            "Requirement already satisfied: matplotlib in /usr/local/lib/python3.10/dist-packages (3.7.1)\n",
            "Requirement already satisfied: filelock in /usr/local/lib/python3.10/dist-packages (from transformers) (3.16.1)\n",
            "Requirement already satisfied: huggingface-hub<1.0,>=0.23.2 in /usr/local/lib/python3.10/dist-packages (from transformers) (0.24.7)\n",
            "Requirement already satisfied: numpy>=1.17 in /usr/local/lib/python3.10/dist-packages (from transformers) (1.26.4)\n",
            "Requirement already satisfied: packaging>=20.0 in /usr/local/lib/python3.10/dist-packages (from transformers) (24.1)\n",
            "Requirement already satisfied: pyyaml>=5.1 in /usr/local/lib/python3.10/dist-packages (from transformers) (6.0.2)\n",
            "Requirement already satisfied: regex!=2019.12.17 in /usr/local/lib/python3.10/dist-packages (from transformers) (2024.9.11)\n",
            "Requirement already satisfied: requests in /usr/local/lib/python3.10/dist-packages (from transformers) (2.32.3)\n",
            "Requirement already satisfied: safetensors>=0.4.1 in /usr/local/lib/python3.10/dist-packages (from transformers) (0.4.5)\n",
            "Requirement already satisfied: tokenizers<0.20,>=0.19 in /usr/local/lib/python3.10/dist-packages (from transformers) (0.19.1)\n",
            "Requirement already satisfied: tqdm>=4.27 in /usr/local/lib/python3.10/dist-packages (from transformers) (4.66.5)\n",
            "Requirement already satisfied: typing-extensions>=4.8.0 in /usr/local/lib/python3.10/dist-packages (from torch) (4.12.2)\n",
            "Requirement already satisfied: networkx in /usr/local/lib/python3.10/dist-packages (from torch) (3.4.2)\n",
            "Requirement already satisfied: jinja2 in /usr/local/lib/python3.10/dist-packages (from torch) (3.1.4)\n",
            "Requirement already satisfied: fsspec in /usr/local/lib/python3.10/dist-packages (from torch) (2024.6.1)\n",
            "Requirement already satisfied: sympy==1.13.1 in /usr/local/lib/python3.10/dist-packages (from torch) (1.13.1)\n",
            "Requirement already satisfied: mpmath<1.4,>=1.1.0 in /usr/local/lib/python3.10/dist-packages (from sympy==1.13.1->torch) (1.3.0)\n",
            "Requirement already satisfied: contourpy>=1.0.1 in /usr/local/lib/python3.10/dist-packages (from matplotlib) (1.3.0)\n",
            "Requirement already satisfied: cycler>=0.10 in /usr/local/lib/python3.10/dist-packages (from matplotlib) (0.12.1)\n",
            "Requirement already satisfied: fonttools>=4.22.0 in /usr/local/lib/python3.10/dist-packages (from matplotlib) (4.54.1)\n",
            "Requirement already satisfied: kiwisolver>=1.0.1 in /usr/local/lib/python3.10/dist-packages (from matplotlib) (1.4.7)\n",
            "Requirement already satisfied: pillow>=6.2.0 in /usr/local/lib/python3.10/dist-packages (from matplotlib) (10.4.0)\n",
            "Requirement already satisfied: pyparsing>=2.3.1 in /usr/local/lib/python3.10/dist-packages (from matplotlib) (3.2.0)\n",
            "Requirement already satisfied: python-dateutil>=2.7 in /usr/local/lib/python3.10/dist-packages (from matplotlib) (2.8.2)\n",
            "Requirement already satisfied: six>=1.5 in /usr/local/lib/python3.10/dist-packages (from python-dateutil>=2.7->matplotlib) (1.16.0)\n",
            "Requirement already satisfied: MarkupSafe>=2.0 in /usr/local/lib/python3.10/dist-packages (from jinja2->torch) (3.0.2)\n",
            "Requirement already satisfied: charset-normalizer<4,>=2 in /usr/local/lib/python3.10/dist-packages (from requests->transformers) (3.4.0)\n",
            "Requirement already satisfied: idna<4,>=2.5 in /usr/local/lib/python3.10/dist-packages (from requests->transformers) (3.10)\n",
            "Requirement already satisfied: urllib3<3,>=1.21.1 in /usr/local/lib/python3.10/dist-packages (from requests->transformers) (2.2.3)\n",
            "Requirement already satisfied: certifi>=2017.4.17 in /usr/local/lib/python3.10/dist-packages (from requests->transformers) (2024.8.30)\n"
          ]
        }
      ]
    },
    {
      "cell_type": "code",
      "source": [
        "import torch\n",
        "from transformers import AutoModel, AutoTokenizer\n",
        "import matplotlib.pyplot as plt\n",
        "\n",
        "# Load the tokenizer and model\n",
        "model_name = \"mrm8488/distilroberta-finetuned-financial-news-sentiment-analysis\"\n",
        "tokenizer = AutoTokenizer.from_pretrained(model_name)\n",
        "model = AutoModel.from_pretrained(model_name, output_attentions=True)"
      ],
      "metadata": {
        "colab": {
          "base_uri": "https://localhost:8080/"
        },
        "id": "Vev4vsPbBiam",
        "outputId": "79360781-e216-480b-c0e3-9b2efdee202b"
      },
      "execution_count": null,
      "outputs": [
        {
          "output_type": "stream",
          "name": "stderr",
          "text": [
            "/usr/local/lib/python3.10/dist-packages/transformers/tokenization_utils_base.py:1601: FutureWarning: `clean_up_tokenization_spaces` was not set. It will be set to `True` by default. This behavior will be depracted in transformers v4.45, and will be then set to `False` by default. For more details check this issue: https://github.com/huggingface/transformers/issues/31884\n",
            "  warnings.warn(\n",
            "Some weights of RobertaModel were not initialized from the model checkpoint at mrm8488/distilroberta-finetuned-financial-news-sentiment-analysis and are newly initialized: ['roberta.pooler.dense.bias', 'roberta.pooler.dense.weight']\n",
            "You should probably TRAIN this model on a down-stream task to be able to use it for predictions and inference.\n"
          ]
        }
      ]
    },
    {
      "cell_type": "code",
      "source": [
        "def visualize_attention(text, layer=0, head=0):\n",
        "    # Tokenize the input text\n",
        "    inputs = tokenizer(text, return_tensors=\"pt\")\n",
        "\n",
        "    # Forward pass through the model to get outputs with attentions\n",
        "    with torch.no_grad():\n",
        "        outputs = model(**inputs)\n",
        "\n",
        "    # Extract token ids and attention weights\n",
        "    token_ids = inputs['input_ids'][0]\n",
        "    tokens = tokenizer.convert_ids_to_tokens(token_ids)\n",
        "    attention = outputs.attentions[layer][0, head]\n",
        "\n",
        "    # Plot the attention scores\n",
        "    fig, ax = plt.subplots(figsize=(10, 10))\n",
        "    ax.matshow(attention, cmap='viridis')\n",
        "\n",
        "    # Set the labels\n",
        "    ax.set_xticks(range(len(tokens)))\n",
        "    ax.set_yticks(range(len(tokens)))\n",
        "    ax.set_xticklabels(tokens, rotation=90)\n",
        "    ax.set_yticklabels(tokens)\n",
        "\n",
        "    plt.show()"
      ],
      "metadata": {
        "id": "3iZCAo0sBlcw"
      },
      "execution_count": null,
      "outputs": []
    },
    {
      "cell_type": "code",
      "source": [
        "# Example text to visualize attention\n",
        "text = \"The company's revenue grew significantly this year.\"\n",
        "\n",
        "# Visualize attention from the first layer and first head\n",
        "visualize_attention(text, layer=0, head=0)"
      ],
      "metadata": {
        "colab": {
          "base_uri": "https://localhost:8080/",
          "height": 916
        },
        "id": "S442QTv4BoAh",
        "outputId": "28b3ebe6-9cd8-44e3-c586-4de452e67ea8"
      },
      "execution_count": null,
      "outputs": [
        {
          "output_type": "display_data",
          "data": {
            "text/plain": [
              "<Figure size 1000x1000 with 1 Axes>"
            ],
            "image/png": "[encoded data removed]"
          },
          "metadata": {}
        }
      ]
    },
    {
      "cell_type": "markdown",
      "source": [
        "# Checking the model accuracy after using attention transformer using the same synthetic dataset"
      ],
      "metadata": {
        "id": "peRMLlVHIg58"
      }
    },
    {
      "cell_type": "code",
      "source": [
        "import torch\n",
        "from transformers import AutoModel, AutoTokenizer, pipeline\n",
        "from sklearn.metrics import accuracy_score\n",
        "\n",
        "# Load the sentiment-analysis pipeline\n",
        "model_name = \"mrm8488/distilroberta-finetuned-financial-news-sentiment-analysis\"\n",
        "tokenizer = AutoTokenizer.from_pretrained(model_name)\n",
        "model = AutoModel.from_pretrained(model_name, output_attentions=True)\n",
        "\n",
        "# Load the original sentiment-analysis pipeline for comparison\n",
        "sentiment_analyzer = pipeline(\n",
        "    \"sentiment-analysis\",\n",
        "    model=model_name\n",
        ")\n"
      ],
      "metadata": {
        "colab": {
          "base_uri": "https://localhost:8080/"
        },
        "id": "yDCRftBgGqJp",
        "outputId": "cfa61033-0b5e-4c18-aeda-40f01a956c15"
      },
      "execution_count": null,
      "outputs": [
        {
          "output_type": "stream",
          "name": "stderr",
          "text": [
            "Some weights of RobertaModel were not initialized from the model checkpoint at mrm8488/distilroberta-finetuned-financial-news-sentiment-analysis and are newly initialized: ['roberta.pooler.dense.bias', 'roberta.pooler.dense.weight']\n",
            "You should probably TRAIN this model on a down-stream task to be able to use it for predictions and inference.\n"
          ]
        }
      ]
    },
    {
      "cell_type": "code",
      "source": [
        "# Function to extract attention and make predictions\n",
        "def predict_with_attention(texts):\n",
        "    predicted_labels = []\n",
        "\n",
        "    for text in texts:\n",
        "        # Tokenize the input text\n",
        "        inputs = tokenizer(text, return_tensors=\"pt\")\n",
        "\n",
        "        # Forward pass through the model to get outputs with attentions\n",
        "        with torch.no_grad():\n",
        "            outputs = model(**inputs)\n",
        "\n",
        "        # Get the attention weights (you can change the layer and head)\n",
        "        attention = outputs.attentions[0][0, 0]  # Using the first layer and first head\n",
        "        attention = attention.mean(dim=0)  # Average over heads if needed\n",
        "\n",
        "        # Use the original sentiment analyzer for the prediction\n",
        "        sentiment = sentiment_analyzer(text)[0][\"label\"].upper()\n",
        "        predicted_labels.append(sentiment)\n",
        "\n",
        "    return predicted_labels\n",
        "\n",
        "# Extract texts for prediction\n",
        "texts = [item[\"text\"] for item in synthetic_data]\n",
        "\n",
        "# Get predictions using the model with attention\n",
        "predicted_labels_with_attention = predict_with_attention(texts)\n"
      ],
      "metadata": {
        "id": "Ugt4UmXiFBpn"
      },
      "execution_count": null,
      "outputs": []
    },
    {
      "cell_type": "code",
      "source": [
        "# True labels\n",
        "true_labels = [item[\"label\"] for item in synthetic_data]\n",
        "\n",
        "# Calculate and display the accuracy\n",
        "accuracy_with_attention = accuracy_score(true_labels, predicted_labels_with_attention)\n",
        "print(f\"Accuracy with Attention: {accuracy_with_attention * 100:.2f}%\")\n",
        "\n",
        "# Display predictions for each example\n",
        "for text, true, pred in zip(texts, true_labels, predicted_labels_with_attention):\n",
        "    print(f\"Text: {text}\\nTrue Label: {true}, Predicted Label: {pred}\\n\")\n"
      ],
      "metadata": {
        "colab": {
          "base_uri": "https://localhost:8080/"
        },
        "id": "mFUpRlqwFUr_",
        "outputId": "aae1ee50-a454-438c-e207-d0614514199c"
      },
      "execution_count": null,
      "outputs": [
        {
          "output_type": "stream",
          "name": "stdout",
          "text": [
            "Accuracy with Attention: 100.00%\n",
            "Text: The company's revenue grew significantly this year.\n",
            "True Label: POSITIVE, Predicted Label: POSITIVE\n",
            "\n",
            "Text: The stock prices plummeted after the announcement.\n",
            "True Label: NEGATIVE, Predicted Label: NEGATIVE\n",
            "\n",
            "Text: The economy is stable with no major disruptions.\n",
            "True Label: POSITIVE, Predicted Label: POSITIVE\n",
            "\n",
            "Text: The merger has increased shareholder confidence.\n",
            "True Label: POSITIVE, Predicted Label: POSITIVE\n",
            "\n",
            "Text: The CEO's resignation caused uncertainty among investors.\n",
            "True Label: NEGATIVE, Predicted Label: NEGATIVE\n",
            "\n",
            "Text: The central bank kept interest rates unchanged.\n",
            "True Label: NEUTRAL, Predicted Label: NEUTRAL\n",
            "\n",
            "Text: The company has launched a promising new product.\n",
            "True Label: POSITIVE, Predicted Label: POSITIVE\n",
            "\n",
            "Text: The pandemic has hurt sales across all sectors.\n",
            "True Label: NEGATIVE, Predicted Label: NEGATIVE\n",
            "\n",
            "Text: The quarterly performance is as expected.\n",
            "True Label: NEUTRAL, Predicted Label: NEUTRAL\n",
            "\n"
          ]
        }
      ]
    },
    {
      "cell_type": "markdown",
      "source": [
        "# compare both accuracy with or without Attention Transformer"
      ],
      "metadata": {
        "id": "SnkI6cFWIn7c"
      }
    },
    {
      "cell_type": "code",
      "source": [
        "print(f\"Accuracy original: {accuracy * 100:.2f}%\")\n",
        "print(f\"Accuracy with Attention: {accuracy_with_attention * 100:.2f}%\")"
      ],
      "metadata": {
        "colab": {
          "base_uri": "https://localhost:8080/"
        },
        "id": "F0I6sSlIHFhk",
        "outputId": "2ef2ac5b-6d9c-4a1d-f535-a46455d1419d"
      },
      "execution_count": null,
      "outputs": [
        {
          "output_type": "stream",
          "name": "stdout",
          "text": [
            "Accuracy original: 100.00%\n",
            "Accuracy with Attention: 100.00%\n"
          ]
        }
      ]
    }
  ]
}